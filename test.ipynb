{
 "cells": [
  {
   "cell_type": "code",
   "execution_count": 16,
   "metadata": {},
   "outputs": [],
   "source": [
    "import pandas as pd \n",
    "import numpy as np \n",
    "import plotly.express as px"
   ]
  },
  {
   "cell_type": "code",
   "execution_count": 13,
   "metadata": {},
   "outputs": [
    {
     "data": {
      "text/plain": [
       "(18310, 131)"
      ]
     },
     "execution_count": 13,
     "metadata": {},
     "output_type": "execute_result"
    }
   ],
   "source": [
    "# https://www.cbs.nl/nl-nl/maatwerk/2024/35/kerncijfers-wijken-en-buurten-2024\n",
    "df = pd.read_excel('./kwb-2024.xlsx')\n",
    "df.shape"
   ]
  },
  {
   "cell_type": "code",
   "execution_count": 24,
   "metadata": {},
   "outputs": [
    {
     "data": {
      "text/html": [
       "<div>\n",
       "<style scoped>\n",
       "    .dataframe tbody tr th:only-of-type {\n",
       "        vertical-align: middle;\n",
       "    }\n",
       "\n",
       "    .dataframe tbody tr th {\n",
       "        vertical-align: top;\n",
       "    }\n",
       "\n",
       "    .dataframe thead th {\n",
       "        text-align: right;\n",
       "    }\n",
       "</style>\n",
       "<table border=\"1\" class=\"dataframe\">\n",
       "  <thead>\n",
       "    <tr style=\"text-align: right;\">\n",
       "      <th></th>\n",
       "      <th>gwb_code_10</th>\n",
       "      <th>gwb_code_8</th>\n",
       "      <th>regio</th>\n",
       "      <th>gm_naam</th>\n",
       "      <th>recs</th>\n",
       "      <th>gwb_code</th>\n",
       "      <th>ind_wbi</th>\n",
       "      <th>a_inw</th>\n",
       "      <th>a_man</th>\n",
       "      <th>a_vrouw</th>\n",
       "      <th>...</th>\n",
       "      <th>a_lan_ha</th>\n",
       "      <th>a_wat_ha</th>\n",
       "      <th>pst_mvp</th>\n",
       "      <th>pst_dekp</th>\n",
       "      <th>ste_mvs</th>\n",
       "      <th>ste_oad</th>\n",
       "      <th>single_women</th>\n",
       "      <th>single_women_proportion</th>\n",
       "      <th>single_women_total</th>\n",
       "      <th>single_women_age_group</th>\n",
       "    </tr>\n",
       "  </thead>\n",
       "  <tbody>\n",
       "    <tr>\n",
       "      <th>1</th>\n",
       "      <td>GM0014</td>\n",
       "      <td>0014</td>\n",
       "      <td>Groningen</td>\n",
       "      <td>Groningen</td>\n",
       "      <td>Gemeente</td>\n",
       "      <td>GM0014</td>\n",
       "      <td>1</td>\n",
       "      <td>243768</td>\n",
       "      <td>120912</td>\n",
       "      <td>122856</td>\n",
       "      <td>...</td>\n",
       "      <td>18553</td>\n",
       "      <td>1244</td>\n",
       "      <td>.</td>\n",
       "      <td>.</td>\n",
       "      <td>1</td>\n",
       "      <td>3472</td>\n",
       "      <td>4.493020e+09</td>\n",
       "      <td>82451.330314</td>\n",
       "      <td>1.012964e+10</td>\n",
       "      <td>2.264426e+09</td>\n",
       "    </tr>\n",
       "    <tr>\n",
       "      <th>2</th>\n",
       "      <td>WK001400</td>\n",
       "      <td>001400</td>\n",
       "      <td>Centrum</td>\n",
       "      <td>Groningen</td>\n",
       "      <td>Wijk</td>\n",
       "      <td>WK001400</td>\n",
       "      <td>1</td>\n",
       "      <td>24920</td>\n",
       "      <td>12845</td>\n",
       "      <td>12070</td>\n",
       "      <td>...</td>\n",
       "      <td>228</td>\n",
       "      <td>13</td>\n",
       "      <td>.</td>\n",
       "      <td>.</td>\n",
       "      <td>1</td>\n",
       "      <td>6766</td>\n",
       "      <td>1.162414e+08</td>\n",
       "      <td>10314.231541</td>\n",
       "      <td>1.244928e+08</td>\n",
       "      <td>5.630151e+07</td>\n",
       "    </tr>\n",
       "    <tr>\n",
       "      <th>3</th>\n",
       "      <td>BU00140000</td>\n",
       "      <td>00140000</td>\n",
       "      <td>Binnenstad-Noord</td>\n",
       "      <td>Groningen</td>\n",
       "      <td>Buurt</td>\n",
       "      <td>BU00140000</td>\n",
       "      <td>1</td>\n",
       "      <td>4745</td>\n",
       "      <td>2470</td>\n",
       "      <td>2270</td>\n",
       "      <td>...</td>\n",
       "      <td>37</td>\n",
       "      <td>2</td>\n",
       "      <td>9712</td>\n",
       "      <td>1</td>\n",
       "      <td>1</td>\n",
       "      <td>7001</td>\n",
       "      <td>4.740616e+06</td>\n",
       "      <td>2004.488936</td>\n",
       "      <td>4.550190e+06</td>\n",
       "      <td>2.267903e+06</td>\n",
       "    </tr>\n",
       "    <tr>\n",
       "      <th>4</th>\n",
       "      <td>BU00140001</td>\n",
       "      <td>00140001</td>\n",
       "      <td>Binnenstad-Zuid</td>\n",
       "      <td>Groningen</td>\n",
       "      <td>Buurt</td>\n",
       "      <td>BU00140001</td>\n",
       "      <td>1</td>\n",
       "      <td>6975</td>\n",
       "      <td>3640</td>\n",
       "      <td>3340</td>\n",
       "      <td>...</td>\n",
       "      <td>55</td>\n",
       "      <td>4</td>\n",
       "      <td>9711</td>\n",
       "      <td>1</td>\n",
       "      <td>1</td>\n",
       "      <td>6698</td>\n",
       "      <td>1.033465e+07</td>\n",
       "      <td>2940.157706</td>\n",
       "      <td>9.820127e+06</td>\n",
       "      <td>4.948781e+06</td>\n",
       "    </tr>\n",
       "    <tr>\n",
       "      <th>5</th>\n",
       "      <td>BU00140002</td>\n",
       "      <td>00140002</td>\n",
       "      <td>Binnenstad-Oost</td>\n",
       "      <td>Groningen</td>\n",
       "      <td>Buurt</td>\n",
       "      <td>BU00140002</td>\n",
       "      <td>1</td>\n",
       "      <td>4400</td>\n",
       "      <td>2275</td>\n",
       "      <td>2125</td>\n",
       "      <td>...</td>\n",
       "      <td>27</td>\n",
       "      <td>2</td>\n",
       "      <td>9711</td>\n",
       "      <td>3</td>\n",
       "      <td>1</td>\n",
       "      <td>6355</td>\n",
       "      <td>3.326555e+06</td>\n",
       "      <td>1832.812500</td>\n",
       "      <td>3.894727e+06</td>\n",
       "      <td>1.606575e+06</td>\n",
       "    </tr>\n",
       "  </tbody>\n",
       "</table>\n",
       "<p>5 rows × 135 columns</p>\n",
       "</div>"
      ],
      "text/plain": [
       "  gwb_code_10 gwb_code_8             regio    gm_naam      recs    gwb_code  \\\n",
       "1      GM0014       0014         Groningen  Groningen  Gemeente      GM0014   \n",
       "2    WK001400     001400           Centrum  Groningen      Wijk    WK001400   \n",
       "3  BU00140000   00140000  Binnenstad-Noord  Groningen     Buurt  BU00140000   \n",
       "4  BU00140001   00140001   Binnenstad-Zuid  Groningen     Buurt  BU00140001   \n",
       "5  BU00140002   00140002   Binnenstad-Oost  Groningen     Buurt  BU00140002   \n",
       "\n",
       "  ind_wbi   a_inw   a_man  a_vrouw  ...  a_lan_ha  a_wat_ha  pst_mvp  \\\n",
       "1       1  243768  120912   122856  ...     18553      1244        .   \n",
       "2       1   24920   12845    12070  ...       228        13        .   \n",
       "3       1    4745    2470     2270  ...        37         2     9712   \n",
       "4       1    6975    3640     3340  ...        55         4     9711   \n",
       "5       1    4400    2275     2125  ...        27         2     9711   \n",
       "\n",
       "   pst_dekp  ste_mvs  ste_oad  single_women  single_women_proportion  \\\n",
       "1         .        1     3472  4.493020e+09             82451.330314   \n",
       "2         .        1     6766  1.162414e+08             10314.231541   \n",
       "3         1        1     7001  4.740616e+06              2004.488936   \n",
       "4         1        1     6698  1.033465e+07              2940.157706   \n",
       "5         3        1     6355  3.326555e+06              1832.812500   \n",
       "\n",
       "   single_women_total  single_women_age_group  \n",
       "1        1.012964e+10            2.264426e+09  \n",
       "2        1.244928e+08            5.630151e+07  \n",
       "3        4.550190e+06            2.267903e+06  \n",
       "4        9.820127e+06            4.948781e+06  \n",
       "5        3.894727e+06            1.606575e+06  \n",
       "\n",
       "[5 rows x 135 columns]"
      ]
     },
     "execution_count": 24,
     "metadata": {},
     "output_type": "execute_result"
    }
   ],
   "source": [
    "df.head()"
   ]
  },
  {
   "cell_type": "code",
   "execution_count": 20,
   "metadata": {},
   "outputs": [],
   "source": [
    "df = df[df['recs'] != \"Land\"]"
   ]
  },
  {
   "cell_type": "code",
   "execution_count": 39,
   "metadata": {},
   "outputs": [
    {
     "data": {
      "application/vnd.plotly.v1+json": {
       "config": {
        "plotlyServerURL": "https://plot.ly"
       },
       "data": [
        {
         "alignmentgroup": "True",
         "hovertemplate": "Regio=%{x}<br>Proportion of Single Women=%{text}<extra></extra>",
         "legendgroup": "",
         "marker": {
          "color": "#636efa",
          "pattern": {
           "shape": ""
          }
         },
         "name": "",
         "offsetgroup": "",
         "orientation": "v",
         "showlegend": false,
         "text": [
          0.20712176381196462,
          0.18311692973720547,
          0.18205067152526982,
          0.18164266964003842,
          0.17919800305817177,
          0.17852024946837697,
          0.17833762898268385,
          0.16975433154400857,
          0.1625312406698794,
          0.1617370352540632
         ],
         "textposition": "outside",
         "texttemplate": "%{text:.2%}",
         "type": "bar",
         "x": [
          "Noordelijke IJ-oevers-West",
          "Oude Pijp",
          "Wijk 06 Binnenstad",
          "Westlandgracht",
          "Hoofddorppleinbuurt",
          "Nieuwe Pijp",
          "Nijmegen-Centrum",
          "Blijdorp",
          "Hoofdweg e.o.",
          "Oosterparkwijk"
         ],
         "xaxis": "x",
         "y": [
          0.20712176381196462,
          0.18311692973720547,
          0.18205067152526982,
          0.18164266964003842,
          0.17919800305817177,
          0.17852024946837697,
          0.17833762898268385,
          0.16975433154400857,
          0.1625312406698794,
          0.1617370352540632
         ],
         "yaxis": "y"
        }
       ],
       "layout": {
        "barmode": "relative",
        "legend": {
         "tracegroupgap": 0
        },
        "template": {
         "data": {
          "bar": [
           {
            "error_x": {
             "color": "#2a3f5f"
            },
            "error_y": {
             "color": "#2a3f5f"
            },
            "marker": {
             "line": {
              "color": "#E5ECF6",
              "width": 0.5
             },
             "pattern": {
              "fillmode": "overlay",
              "size": 10,
              "solidity": 0.2
             }
            },
            "type": "bar"
           }
          ],
          "barpolar": [
           {
            "marker": {
             "line": {
              "color": "#E5ECF6",
              "width": 0.5
             },
             "pattern": {
              "fillmode": "overlay",
              "size": 10,
              "solidity": 0.2
             }
            },
            "type": "barpolar"
           }
          ],
          "carpet": [
           {
            "aaxis": {
             "endlinecolor": "#2a3f5f",
             "gridcolor": "white",
             "linecolor": "white",
             "minorgridcolor": "white",
             "startlinecolor": "#2a3f5f"
            },
            "baxis": {
             "endlinecolor": "#2a3f5f",
             "gridcolor": "white",
             "linecolor": "white",
             "minorgridcolor": "white",
             "startlinecolor": "#2a3f5f"
            },
            "type": "carpet"
           }
          ],
          "choropleth": [
           {
            "colorbar": {
             "outlinewidth": 0,
             "ticks": ""
            },
            "type": "choropleth"
           }
          ],
          "contour": [
           {
            "colorbar": {
             "outlinewidth": 0,
             "ticks": ""
            },
            "colorscale": [
             [
              0,
              "#0d0887"
             ],
             [
              0.1111111111111111,
              "#46039f"
             ],
             [
              0.2222222222222222,
              "#7201a8"
             ],
             [
              0.3333333333333333,
              "#9c179e"
             ],
             [
              0.4444444444444444,
              "#bd3786"
             ],
             [
              0.5555555555555556,
              "#d8576b"
             ],
             [
              0.6666666666666666,
              "#ed7953"
             ],
             [
              0.7777777777777778,
              "#fb9f3a"
             ],
             [
              0.8888888888888888,
              "#fdca26"
             ],
             [
              1,
              "#f0f921"
             ]
            ],
            "type": "contour"
           }
          ],
          "contourcarpet": [
           {
            "colorbar": {
             "outlinewidth": 0,
             "ticks": ""
            },
            "type": "contourcarpet"
           }
          ],
          "heatmap": [
           {
            "colorbar": {
             "outlinewidth": 0,
             "ticks": ""
            },
            "colorscale": [
             [
              0,
              "#0d0887"
             ],
             [
              0.1111111111111111,
              "#46039f"
             ],
             [
              0.2222222222222222,
              "#7201a8"
             ],
             [
              0.3333333333333333,
              "#9c179e"
             ],
             [
              0.4444444444444444,
              "#bd3786"
             ],
             [
              0.5555555555555556,
              "#d8576b"
             ],
             [
              0.6666666666666666,
              "#ed7953"
             ],
             [
              0.7777777777777778,
              "#fb9f3a"
             ],
             [
              0.8888888888888888,
              "#fdca26"
             ],
             [
              1,
              "#f0f921"
             ]
            ],
            "type": "heatmap"
           }
          ],
          "heatmapgl": [
           {
            "colorbar": {
             "outlinewidth": 0,
             "ticks": ""
            },
            "colorscale": [
             [
              0,
              "#0d0887"
             ],
             [
              0.1111111111111111,
              "#46039f"
             ],
             [
              0.2222222222222222,
              "#7201a8"
             ],
             [
              0.3333333333333333,
              "#9c179e"
             ],
             [
              0.4444444444444444,
              "#bd3786"
             ],
             [
              0.5555555555555556,
              "#d8576b"
             ],
             [
              0.6666666666666666,
              "#ed7953"
             ],
             [
              0.7777777777777778,
              "#fb9f3a"
             ],
             [
              0.8888888888888888,
              "#fdca26"
             ],
             [
              1,
              "#f0f921"
             ]
            ],
            "type": "heatmapgl"
           }
          ],
          "histogram": [
           {
            "marker": {
             "pattern": {
              "fillmode": "overlay",
              "size": 10,
              "solidity": 0.2
             }
            },
            "type": "histogram"
           }
          ],
          "histogram2d": [
           {
            "colorbar": {
             "outlinewidth": 0,
             "ticks": ""
            },
            "colorscale": [
             [
              0,
              "#0d0887"
             ],
             [
              0.1111111111111111,
              "#46039f"
             ],
             [
              0.2222222222222222,
              "#7201a8"
             ],
             [
              0.3333333333333333,
              "#9c179e"
             ],
             [
              0.4444444444444444,
              "#bd3786"
             ],
             [
              0.5555555555555556,
              "#d8576b"
             ],
             [
              0.6666666666666666,
              "#ed7953"
             ],
             [
              0.7777777777777778,
              "#fb9f3a"
             ],
             [
              0.8888888888888888,
              "#fdca26"
             ],
             [
              1,
              "#f0f921"
             ]
            ],
            "type": "histogram2d"
           }
          ],
          "histogram2dcontour": [
           {
            "colorbar": {
             "outlinewidth": 0,
             "ticks": ""
            },
            "colorscale": [
             [
              0,
              "#0d0887"
             ],
             [
              0.1111111111111111,
              "#46039f"
             ],
             [
              0.2222222222222222,
              "#7201a8"
             ],
             [
              0.3333333333333333,
              "#9c179e"
             ],
             [
              0.4444444444444444,
              "#bd3786"
             ],
             [
              0.5555555555555556,
              "#d8576b"
             ],
             [
              0.6666666666666666,
              "#ed7953"
             ],
             [
              0.7777777777777778,
              "#fb9f3a"
             ],
             [
              0.8888888888888888,
              "#fdca26"
             ],
             [
              1,
              "#f0f921"
             ]
            ],
            "type": "histogram2dcontour"
           }
          ],
          "mesh3d": [
           {
            "colorbar": {
             "outlinewidth": 0,
             "ticks": ""
            },
            "type": "mesh3d"
           }
          ],
          "parcoords": [
           {
            "line": {
             "colorbar": {
              "outlinewidth": 0,
              "ticks": ""
             }
            },
            "type": "parcoords"
           }
          ],
          "pie": [
           {
            "automargin": true,
            "type": "pie"
           }
          ],
          "scatter": [
           {
            "fillpattern": {
             "fillmode": "overlay",
             "size": 10,
             "solidity": 0.2
            },
            "type": "scatter"
           }
          ],
          "scatter3d": [
           {
            "line": {
             "colorbar": {
              "outlinewidth": 0,
              "ticks": ""
             }
            },
            "marker": {
             "colorbar": {
              "outlinewidth": 0,
              "ticks": ""
             }
            },
            "type": "scatter3d"
           }
          ],
          "scattercarpet": [
           {
            "marker": {
             "colorbar": {
              "outlinewidth": 0,
              "ticks": ""
             }
            },
            "type": "scattercarpet"
           }
          ],
          "scattergeo": [
           {
            "marker": {
             "colorbar": {
              "outlinewidth": 0,
              "ticks": ""
             }
            },
            "type": "scattergeo"
           }
          ],
          "scattergl": [
           {
            "marker": {
             "colorbar": {
              "outlinewidth": 0,
              "ticks": ""
             }
            },
            "type": "scattergl"
           }
          ],
          "scattermapbox": [
           {
            "marker": {
             "colorbar": {
              "outlinewidth": 0,
              "ticks": ""
             }
            },
            "type": "scattermapbox"
           }
          ],
          "scatterpolar": [
           {
            "marker": {
             "colorbar": {
              "outlinewidth": 0,
              "ticks": ""
             }
            },
            "type": "scatterpolar"
           }
          ],
          "scatterpolargl": [
           {
            "marker": {
             "colorbar": {
              "outlinewidth": 0,
              "ticks": ""
             }
            },
            "type": "scatterpolargl"
           }
          ],
          "scatterternary": [
           {
            "marker": {
             "colorbar": {
              "outlinewidth": 0,
              "ticks": ""
             }
            },
            "type": "scatterternary"
           }
          ],
          "surface": [
           {
            "colorbar": {
             "outlinewidth": 0,
             "ticks": ""
            },
            "colorscale": [
             [
              0,
              "#0d0887"
             ],
             [
              0.1111111111111111,
              "#46039f"
             ],
             [
              0.2222222222222222,
              "#7201a8"
             ],
             [
              0.3333333333333333,
              "#9c179e"
             ],
             [
              0.4444444444444444,
              "#bd3786"
             ],
             [
              0.5555555555555556,
              "#d8576b"
             ],
             [
              0.6666666666666666,
              "#ed7953"
             ],
             [
              0.7777777777777778,
              "#fb9f3a"
             ],
             [
              0.8888888888888888,
              "#fdca26"
             ],
             [
              1,
              "#f0f921"
             ]
            ],
            "type": "surface"
           }
          ],
          "table": [
           {
            "cells": {
             "fill": {
              "color": "#EBF0F8"
             },
             "line": {
              "color": "white"
             }
            },
            "header": {
             "fill": {
              "color": "#C8D4E3"
             },
             "line": {
              "color": "white"
             }
            },
            "type": "table"
           }
          ]
         },
         "layout": {
          "annotationdefaults": {
           "arrowcolor": "#2a3f5f",
           "arrowhead": 0,
           "arrowwidth": 1
          },
          "autotypenumbers": "strict",
          "coloraxis": {
           "colorbar": {
            "outlinewidth": 0,
            "ticks": ""
           }
          },
          "colorscale": {
           "diverging": [
            [
             0,
             "#8e0152"
            ],
            [
             0.1,
             "#c51b7d"
            ],
            [
             0.2,
             "#de77ae"
            ],
            [
             0.3,
             "#f1b6da"
            ],
            [
             0.4,
             "#fde0ef"
            ],
            [
             0.5,
             "#f7f7f7"
            ],
            [
             0.6,
             "#e6f5d0"
            ],
            [
             0.7,
             "#b8e186"
            ],
            [
             0.8,
             "#7fbc41"
            ],
            [
             0.9,
             "#4d9221"
            ],
            [
             1,
             "#276419"
            ]
           ],
           "sequential": [
            [
             0,
             "#0d0887"
            ],
            [
             0.1111111111111111,
             "#46039f"
            ],
            [
             0.2222222222222222,
             "#7201a8"
            ],
            [
             0.3333333333333333,
             "#9c179e"
            ],
            [
             0.4444444444444444,
             "#bd3786"
            ],
            [
             0.5555555555555556,
             "#d8576b"
            ],
            [
             0.6666666666666666,
             "#ed7953"
            ],
            [
             0.7777777777777778,
             "#fb9f3a"
            ],
            [
             0.8888888888888888,
             "#fdca26"
            ],
            [
             1,
             "#f0f921"
            ]
           ],
           "sequentialminus": [
            [
             0,
             "#0d0887"
            ],
            [
             0.1111111111111111,
             "#46039f"
            ],
            [
             0.2222222222222222,
             "#7201a8"
            ],
            [
             0.3333333333333333,
             "#9c179e"
            ],
            [
             0.4444444444444444,
             "#bd3786"
            ],
            [
             0.5555555555555556,
             "#d8576b"
            ],
            [
             0.6666666666666666,
             "#ed7953"
            ],
            [
             0.7777777777777778,
             "#fb9f3a"
            ],
            [
             0.8888888888888888,
             "#fdca26"
            ],
            [
             1,
             "#f0f921"
            ]
           ]
          },
          "colorway": [
           "#636efa",
           "#EF553B",
           "#00cc96",
           "#ab63fa",
           "#FFA15A",
           "#19d3f3",
           "#FF6692",
           "#B6E880",
           "#FF97FF",
           "#FECB52"
          ],
          "font": {
           "color": "#2a3f5f"
          },
          "geo": {
           "bgcolor": "white",
           "lakecolor": "white",
           "landcolor": "#E5ECF6",
           "showlakes": true,
           "showland": true,
           "subunitcolor": "white"
          },
          "hoverlabel": {
           "align": "left"
          },
          "hovermode": "closest",
          "mapbox": {
           "style": "light"
          },
          "paper_bgcolor": "white",
          "plot_bgcolor": "#E5ECF6",
          "polar": {
           "angularaxis": {
            "gridcolor": "white",
            "linecolor": "white",
            "ticks": ""
           },
           "bgcolor": "#E5ECF6",
           "radialaxis": {
            "gridcolor": "white",
            "linecolor": "white",
            "ticks": ""
           }
          },
          "scene": {
           "xaxis": {
            "backgroundcolor": "#E5ECF6",
            "gridcolor": "white",
            "gridwidth": 2,
            "linecolor": "white",
            "showbackground": true,
            "ticks": "",
            "zerolinecolor": "white"
           },
           "yaxis": {
            "backgroundcolor": "#E5ECF6",
            "gridcolor": "white",
            "gridwidth": 2,
            "linecolor": "white",
            "showbackground": true,
            "ticks": "",
            "zerolinecolor": "white"
           },
           "zaxis": {
            "backgroundcolor": "#E5ECF6",
            "gridcolor": "white",
            "gridwidth": 2,
            "linecolor": "white",
            "showbackground": true,
            "ticks": "",
            "zerolinecolor": "white"
           }
          },
          "shapedefaults": {
           "line": {
            "color": "#2a3f5f"
           }
          },
          "ternary": {
           "aaxis": {
            "gridcolor": "white",
            "linecolor": "white",
            "ticks": ""
           },
           "baxis": {
            "gridcolor": "white",
            "linecolor": "white",
            "ticks": ""
           },
           "bgcolor": "#E5ECF6",
           "caxis": {
            "gridcolor": "white",
            "linecolor": "white",
            "ticks": ""
           }
          },
          "title": {
           "x": 0.05
          },
          "xaxis": {
           "automargin": true,
           "gridcolor": "white",
           "linecolor": "white",
           "ticks": "",
           "title": {
            "standoff": 15
           },
           "zerolinecolor": "white",
           "zerolinewidth": 2
          },
          "yaxis": {
           "automargin": true,
           "gridcolor": "white",
           "linecolor": "white",
           "ticks": "",
           "title": {
            "standoff": 15
           },
           "zerolinecolor": "white",
           "zerolinewidth": 2
          }
         }
        },
        "title": {
         "text": "Top 10 regio Where Single Men Have the Best Chances (a_25_44)"
        },
        "uniformtext": {
         "minsize": 8,
         "mode": "hide"
        },
        "xaxis": {
         "anchor": "y",
         "domain": [
          0,
          1
         ],
         "title": {
          "text": "Regio"
         }
        },
        "yaxis": {
         "anchor": "x",
         "domain": [
          0,
          1
         ],
         "title": {
          "text": "Proportion of Single Women"
         }
        }
       }
      }
     },
     "metadata": {},
     "output_type": "display_data"
    },
    {
     "data": {
      "application/vnd.plotly.v1+json": {
       "config": {
        "plotlyServerURL": "https://plot.ly"
       },
       "data": [
        {
         "alignmentgroup": "True",
         "hovertemplate": "Regio=%{x}<br>Proportion of Single Women=%{text}<extra></extra>",
         "legendgroup": "",
         "marker": {
          "color": "#636efa",
          "pattern": {
           "shape": ""
          }
         },
         "name": "",
         "offsetgroup": "",
         "orientation": "v",
         "showlegend": false,
         "text": [
          0.18718227294644973
         ],
         "textposition": "outside",
         "texttemplate": "%{text:.2%}",
         "type": "bar",
         "x": [
          "Centrum"
         ],
         "xaxis": "x",
         "y": [
          0.18718227294644973
         ],
         "yaxis": "y"
        }
       ],
       "layout": {
        "barmode": "relative",
        "legend": {
         "tracegroupgap": 0
        },
        "template": {
         "data": {
          "bar": [
           {
            "error_x": {
             "color": "#2a3f5f"
            },
            "error_y": {
             "color": "#2a3f5f"
            },
            "marker": {
             "line": {
              "color": "#E5ECF6",
              "width": 0.5
             },
             "pattern": {
              "fillmode": "overlay",
              "size": 10,
              "solidity": 0.2
             }
            },
            "type": "bar"
           }
          ],
          "barpolar": [
           {
            "marker": {
             "line": {
              "color": "#E5ECF6",
              "width": 0.5
             },
             "pattern": {
              "fillmode": "overlay",
              "size": 10,
              "solidity": 0.2
             }
            },
            "type": "barpolar"
           }
          ],
          "carpet": [
           {
            "aaxis": {
             "endlinecolor": "#2a3f5f",
             "gridcolor": "white",
             "linecolor": "white",
             "minorgridcolor": "white",
             "startlinecolor": "#2a3f5f"
            },
            "baxis": {
             "endlinecolor": "#2a3f5f",
             "gridcolor": "white",
             "linecolor": "white",
             "minorgridcolor": "white",
             "startlinecolor": "#2a3f5f"
            },
            "type": "carpet"
           }
          ],
          "choropleth": [
           {
            "colorbar": {
             "outlinewidth": 0,
             "ticks": ""
            },
            "type": "choropleth"
           }
          ],
          "contour": [
           {
            "colorbar": {
             "outlinewidth": 0,
             "ticks": ""
            },
            "colorscale": [
             [
              0,
              "#0d0887"
             ],
             [
              0.1111111111111111,
              "#46039f"
             ],
             [
              0.2222222222222222,
              "#7201a8"
             ],
             [
              0.3333333333333333,
              "#9c179e"
             ],
             [
              0.4444444444444444,
              "#bd3786"
             ],
             [
              0.5555555555555556,
              "#d8576b"
             ],
             [
              0.6666666666666666,
              "#ed7953"
             ],
             [
              0.7777777777777778,
              "#fb9f3a"
             ],
             [
              0.8888888888888888,
              "#fdca26"
             ],
             [
              1,
              "#f0f921"
             ]
            ],
            "type": "contour"
           }
          ],
          "contourcarpet": [
           {
            "colorbar": {
             "outlinewidth": 0,
             "ticks": ""
            },
            "type": "contourcarpet"
           }
          ],
          "heatmap": [
           {
            "colorbar": {
             "outlinewidth": 0,
             "ticks": ""
            },
            "colorscale": [
             [
              0,
              "#0d0887"
             ],
             [
              0.1111111111111111,
              "#46039f"
             ],
             [
              0.2222222222222222,
              "#7201a8"
             ],
             [
              0.3333333333333333,
              "#9c179e"
             ],
             [
              0.4444444444444444,
              "#bd3786"
             ],
             [
              0.5555555555555556,
              "#d8576b"
             ],
             [
              0.6666666666666666,
              "#ed7953"
             ],
             [
              0.7777777777777778,
              "#fb9f3a"
             ],
             [
              0.8888888888888888,
              "#fdca26"
             ],
             [
              1,
              "#f0f921"
             ]
            ],
            "type": "heatmap"
           }
          ],
          "heatmapgl": [
           {
            "colorbar": {
             "outlinewidth": 0,
             "ticks": ""
            },
            "colorscale": [
             [
              0,
              "#0d0887"
             ],
             [
              0.1111111111111111,
              "#46039f"
             ],
             [
              0.2222222222222222,
              "#7201a8"
             ],
             [
              0.3333333333333333,
              "#9c179e"
             ],
             [
              0.4444444444444444,
              "#bd3786"
             ],
             [
              0.5555555555555556,
              "#d8576b"
             ],
             [
              0.6666666666666666,
              "#ed7953"
             ],
             [
              0.7777777777777778,
              "#fb9f3a"
             ],
             [
              0.8888888888888888,
              "#fdca26"
             ],
             [
              1,
              "#f0f921"
             ]
            ],
            "type": "heatmapgl"
           }
          ],
          "histogram": [
           {
            "marker": {
             "pattern": {
              "fillmode": "overlay",
              "size": 10,
              "solidity": 0.2
             }
            },
            "type": "histogram"
           }
          ],
          "histogram2d": [
           {
            "colorbar": {
             "outlinewidth": 0,
             "ticks": ""
            },
            "colorscale": [
             [
              0,
              "#0d0887"
             ],
             [
              0.1111111111111111,
              "#46039f"
             ],
             [
              0.2222222222222222,
              "#7201a8"
             ],
             [
              0.3333333333333333,
              "#9c179e"
             ],
             [
              0.4444444444444444,
              "#bd3786"
             ],
             [
              0.5555555555555556,
              "#d8576b"
             ],
             [
              0.6666666666666666,
              "#ed7953"
             ],
             [
              0.7777777777777778,
              "#fb9f3a"
             ],
             [
              0.8888888888888888,
              "#fdca26"
             ],
             [
              1,
              "#f0f921"
             ]
            ],
            "type": "histogram2d"
           }
          ],
          "histogram2dcontour": [
           {
            "colorbar": {
             "outlinewidth": 0,
             "ticks": ""
            },
            "colorscale": [
             [
              0,
              "#0d0887"
             ],
             [
              0.1111111111111111,
              "#46039f"
             ],
             [
              0.2222222222222222,
              "#7201a8"
             ],
             [
              0.3333333333333333,
              "#9c179e"
             ],
             [
              0.4444444444444444,
              "#bd3786"
             ],
             [
              0.5555555555555556,
              "#d8576b"
             ],
             [
              0.6666666666666666,
              "#ed7953"
             ],
             [
              0.7777777777777778,
              "#fb9f3a"
             ],
             [
              0.8888888888888888,
              "#fdca26"
             ],
             [
              1,
              "#f0f921"
             ]
            ],
            "type": "histogram2dcontour"
           }
          ],
          "mesh3d": [
           {
            "colorbar": {
             "outlinewidth": 0,
             "ticks": ""
            },
            "type": "mesh3d"
           }
          ],
          "parcoords": [
           {
            "line": {
             "colorbar": {
              "outlinewidth": 0,
              "ticks": ""
             }
            },
            "type": "parcoords"
           }
          ],
          "pie": [
           {
            "automargin": true,
            "type": "pie"
           }
          ],
          "scatter": [
           {
            "fillpattern": {
             "fillmode": "overlay",
             "size": 10,
             "solidity": 0.2
            },
            "type": "scatter"
           }
          ],
          "scatter3d": [
           {
            "line": {
             "colorbar": {
              "outlinewidth": 0,
              "ticks": ""
             }
            },
            "marker": {
             "colorbar": {
              "outlinewidth": 0,
              "ticks": ""
             }
            },
            "type": "scatter3d"
           }
          ],
          "scattercarpet": [
           {
            "marker": {
             "colorbar": {
              "outlinewidth": 0,
              "ticks": ""
             }
            },
            "type": "scattercarpet"
           }
          ],
          "scattergeo": [
           {
            "marker": {
             "colorbar": {
              "outlinewidth": 0,
              "ticks": ""
             }
            },
            "type": "scattergeo"
           }
          ],
          "scattergl": [
           {
            "marker": {
             "colorbar": {
              "outlinewidth": 0,
              "ticks": ""
             }
            },
            "type": "scattergl"
           }
          ],
          "scattermapbox": [
           {
            "marker": {
             "colorbar": {
              "outlinewidth": 0,
              "ticks": ""
             }
            },
            "type": "scattermapbox"
           }
          ],
          "scatterpolar": [
           {
            "marker": {
             "colorbar": {
              "outlinewidth": 0,
              "ticks": ""
             }
            },
            "type": "scatterpolar"
           }
          ],
          "scatterpolargl": [
           {
            "marker": {
             "colorbar": {
              "outlinewidth": 0,
              "ticks": ""
             }
            },
            "type": "scatterpolargl"
           }
          ],
          "scatterternary": [
           {
            "marker": {
             "colorbar": {
              "outlinewidth": 0,
              "ticks": ""
             }
            },
            "type": "scatterternary"
           }
          ],
          "surface": [
           {
            "colorbar": {
             "outlinewidth": 0,
             "ticks": ""
            },
            "colorscale": [
             [
              0,
              "#0d0887"
             ],
             [
              0.1111111111111111,
              "#46039f"
             ],
             [
              0.2222222222222222,
              "#7201a8"
             ],
             [
              0.3333333333333333,
              "#9c179e"
             ],
             [
              0.4444444444444444,
              "#bd3786"
             ],
             [
              0.5555555555555556,
              "#d8576b"
             ],
             [
              0.6666666666666666,
              "#ed7953"
             ],
             [
              0.7777777777777778,
              "#fb9f3a"
             ],
             [
              0.8888888888888888,
              "#fdca26"
             ],
             [
              1,
              "#f0f921"
             ]
            ],
            "type": "surface"
           }
          ],
          "table": [
           {
            "cells": {
             "fill": {
              "color": "#EBF0F8"
             },
             "line": {
              "color": "white"
             }
            },
            "header": {
             "fill": {
              "color": "#C8D4E3"
             },
             "line": {
              "color": "white"
             }
            },
            "type": "table"
           }
          ]
         },
         "layout": {
          "annotationdefaults": {
           "arrowcolor": "#2a3f5f",
           "arrowhead": 0,
           "arrowwidth": 1
          },
          "autotypenumbers": "strict",
          "coloraxis": {
           "colorbar": {
            "outlinewidth": 0,
            "ticks": ""
           }
          },
          "colorscale": {
           "diverging": [
            [
             0,
             "#8e0152"
            ],
            [
             0.1,
             "#c51b7d"
            ],
            [
             0.2,
             "#de77ae"
            ],
            [
             0.3,
             "#f1b6da"
            ],
            [
             0.4,
             "#fde0ef"
            ],
            [
             0.5,
             "#f7f7f7"
            ],
            [
             0.6,
             "#e6f5d0"
            ],
            [
             0.7,
             "#b8e186"
            ],
            [
             0.8,
             "#7fbc41"
            ],
            [
             0.9,
             "#4d9221"
            ],
            [
             1,
             "#276419"
            ]
           ],
           "sequential": [
            [
             0,
             "#0d0887"
            ],
            [
             0.1111111111111111,
             "#46039f"
            ],
            [
             0.2222222222222222,
             "#7201a8"
            ],
            [
             0.3333333333333333,
             "#9c179e"
            ],
            [
             0.4444444444444444,
             "#bd3786"
            ],
            [
             0.5555555555555556,
             "#d8576b"
            ],
            [
             0.6666666666666666,
             "#ed7953"
            ],
            [
             0.7777777777777778,
             "#fb9f3a"
            ],
            [
             0.8888888888888888,
             "#fdca26"
            ],
            [
             1,
             "#f0f921"
            ]
           ],
           "sequentialminus": [
            [
             0,
             "#0d0887"
            ],
            [
             0.1111111111111111,
             "#46039f"
            ],
            [
             0.2222222222222222,
             "#7201a8"
            ],
            [
             0.3333333333333333,
             "#9c179e"
            ],
            [
             0.4444444444444444,
             "#bd3786"
            ],
            [
             0.5555555555555556,
             "#d8576b"
            ],
            [
             0.6666666666666666,
             "#ed7953"
            ],
            [
             0.7777777777777778,
             "#fb9f3a"
            ],
            [
             0.8888888888888888,
             "#fdca26"
            ],
            [
             1,
             "#f0f921"
            ]
           ]
          },
          "colorway": [
           "#636efa",
           "#EF553B",
           "#00cc96",
           "#ab63fa",
           "#FFA15A",
           "#19d3f3",
           "#FF6692",
           "#B6E880",
           "#FF97FF",
           "#FECB52"
          ],
          "font": {
           "color": "#2a3f5f"
          },
          "geo": {
           "bgcolor": "white",
           "lakecolor": "white",
           "landcolor": "#E5ECF6",
           "showlakes": true,
           "showland": true,
           "subunitcolor": "white"
          },
          "hoverlabel": {
           "align": "left"
          },
          "hovermode": "closest",
          "mapbox": {
           "style": "light"
          },
          "paper_bgcolor": "white",
          "plot_bgcolor": "#E5ECF6",
          "polar": {
           "angularaxis": {
            "gridcolor": "white",
            "linecolor": "white",
            "ticks": ""
           },
           "bgcolor": "#E5ECF6",
           "radialaxis": {
            "gridcolor": "white",
            "linecolor": "white",
            "ticks": ""
           }
          },
          "scene": {
           "xaxis": {
            "backgroundcolor": "#E5ECF6",
            "gridcolor": "white",
            "gridwidth": 2,
            "linecolor": "white",
            "showbackground": true,
            "ticks": "",
            "zerolinecolor": "white"
           },
           "yaxis": {
            "backgroundcolor": "#E5ECF6",
            "gridcolor": "white",
            "gridwidth": 2,
            "linecolor": "white",
            "showbackground": true,
            "ticks": "",
            "zerolinecolor": "white"
           },
           "zaxis": {
            "backgroundcolor": "#E5ECF6",
            "gridcolor": "white",
            "gridwidth": 2,
            "linecolor": "white",
            "showbackground": true,
            "ticks": "",
            "zerolinecolor": "white"
           }
          },
          "shapedefaults": {
           "line": {
            "color": "#2a3f5f"
           }
          },
          "ternary": {
           "aaxis": {
            "gridcolor": "white",
            "linecolor": "white",
            "ticks": ""
           },
           "baxis": {
            "gridcolor": "white",
            "linecolor": "white",
            "ticks": ""
           },
           "bgcolor": "#E5ECF6",
           "caxis": {
            "gridcolor": "white",
            "linecolor": "white",
            "ticks": ""
           }
          },
          "title": {
           "x": 0.05
          },
          "xaxis": {
           "automargin": true,
           "gridcolor": "white",
           "linecolor": "white",
           "ticks": "",
           "title": {
            "standoff": 15
           },
           "zerolinecolor": "white",
           "zerolinewidth": 2
          },
          "yaxis": {
           "automargin": true,
           "gridcolor": "white",
           "linecolor": "white",
           "ticks": "",
           "title": {
            "standoff": 15
           },
           "zerolinecolor": "white",
           "zerolinewidth": 2
          }
         }
        },
        "title": {
         "text": "Top 10 regio Where Single Men Have the Best Chances (a_15_24)"
        },
        "uniformtext": {
         "minsize": 8,
         "mode": "hide"
        },
        "xaxis": {
         "anchor": "y",
         "domain": [
          0,
          1
         ],
         "title": {
          "text": "Regio"
         }
        },
        "yaxis": {
         "anchor": "x",
         "domain": [
          0,
          1
         ],
         "title": {
          "text": "Proportion of Single Women"
         }
        }
       }
      }
     },
     "metadata": {},
     "output_type": "display_data"
    }
   ],
   "source": [
    "def plot_best_chances_for_singles(df, col, age_classes, min_population=10000, min_percentage=0.1):\n",
    "    \"\"\"\n",
    "    Plots the regions or municipalities where single men have the best chances \n",
    "    based on the proportion of single women and a minimum population threshold.\n",
    "\n",
    "    Args:\n",
    "        df (pd.DataFrame): Input DataFrame with columns for demographics.\n",
    "        col (str): The column to group by, e.g., 'gm_naam' or 'regio'.\n",
    "        age_classes (list): List of age class columns to analyze, e.g., ['a_25_44', 'a_15_24'].\n",
    "        min_population (int): Minimum population size to include in the analysis.\n",
    "        min_percentage (float): Minimum proportion of single women to include (e.g., 0.1 for 10%).\n",
    "    \"\"\"\n",
    "    # Ensure valid rows\n",
    "    df = df.dropna(subset=[\"a_ongeh\", \"a_vrouw\", \"a_inw\"] + age_classes)\n",
    "    df = df[df[\"a_inw\"] > 0]  # Exclude rows with zero population to avoid division errors\n",
    "\n",
    "    for age_class in age_classes:\n",
    "        if age_class not in df.columns:\n",
    "            print(f\"Age class '{age_class}' is not in the DataFrame. Skipping...\")\n",
    "            continue\n",
    "        \n",
    "        # Step 1: Calculate unmarried women proportion\n",
    "        df[\"unmarried_women\"] = df[\"a_ongeh\"] * (df[\"a_vrouw\"] / df[\"a_inw\"])\n",
    "        \n",
    "        # Step 2: Adjust for the age group\n",
    "        df[\"unmarried_women_age_group\"] = df[\"unmarried_women\"] * (df[age_class] / df[\"a_inw\"])\n",
    "        \n",
    "        # Step 3: Calculate proportion of unmarried women relative to total population\n",
    "        df[\"unmarried_women_proportion\"] = df[\"unmarried_women_age_group\"] / df[\"a_inw\"]\n",
    "        \n",
    "        # Step 4: Filter by minimum population size and unmarried women proportion\n",
    "        df_filtered = df[(df[\"a_inw\"] >= min_population) & \n",
    "                         (df[\"unmarried_women_proportion\"] >= min_percentage)]\n",
    "        \n",
    "        # Step 5: Get the top 10 regions based on unmarried women proportion\n",
    "        top_10 = df_filtered.nlargest(10, \"unmarried_women_proportion\")\n",
    "        \n",
    "        # Step 6: Plot the data\n",
    "        fig = px.bar(\n",
    "            top_10,\n",
    "            x=col,\n",
    "            y=\"unmarried_women_proportion\",\n",
    "            title=f\"Top 10 {col} Where Single Men Have the Best Chances ({age_class})\",\n",
    "            labels={col: col.capitalize(), \"unmarried_women_proportion\": \"Proportion of Single Women\"},\n",
    "            text=\"unmarried_women_proportion\",\n",
    "        )\n",
    "        fig.update_traces(texttemplate=\"%{text:.2%}\", textposition=\"outside\")\n",
    "        fig.update_layout(\n",
    "            xaxis_title=col.capitalize(),\n",
    "            yaxis_title=\"Proportion of Single Women\",\n",
    "            uniformtext_minsize=8,\n",
    "            uniformtext_mode=\"hide\"\n",
    "        )\n",
    "        fig.show()\n",
    "\n",
    "# Example usage\n",
    "plot_best_chances_for_singles(df, col=\"regio\", age_classes=[\"a_25_44\", \"a_15_24\"], min_population=10000, min_percentage=0.15)"
   ]
  },
  {
   "cell_type": "code",
   "execution_count": 40,
   "metadata": {},
   "outputs": [
    {
     "data": {
      "text/plain": [
       "Index(['gwb_code_10', 'gwb_code_8', 'regio', 'gm_naam', 'recs', 'gwb_code',\n",
       "       'ind_wbi', 'a_inw', 'a_man', 'a_vrouw',\n",
       "       ...\n",
       "       'pst_mvp', 'pst_dekp', 'ste_mvs', 'ste_oad', 'single_women',\n",
       "       'single_women_proportion', 'single_women_total',\n",
       "       'single_women_age_group', 'unmarried_women',\n",
       "       'unmarried_women_age_group'],\n",
       "      dtype='object', length=137)"
      ]
     },
     "execution_count": 40,
     "metadata": {},
     "output_type": "execute_result"
    }
   ],
   "source": [
    "df.columns"
   ]
  },
  {
   "cell_type": "code",
   "execution_count": 41,
   "metadata": {},
   "outputs": [
    {
     "name": "stdout",
     "output_type": "stream",
     "text": [
      "12000 6857\n"
     ]
    }
   ],
   "source": [
    "inw = 12000\n",
    "won = round(inw / 1.75)\n",
    "print(inw, won)"
   ]
  },
  {
   "cell_type": "code",
   "execution_count": 42,
   "metadata": {},
   "outputs": [
    {
     "data": {
      "text/plain": [
       "(548, 137)"
      ]
     },
     "execution_count": 42,
     "metadata": {},
     "output_type": "execute_result"
    }
   ],
   "source": [
    "\n",
    "df = df[df['a_inw'] >= inw]\n",
    "df = df[df['a_woning'].astype(int) >= won]\n",
    "df.shape"
   ]
  },
  {
   "cell_type": "code",
   "execution_count": 43,
   "metadata": {},
   "outputs": [],
   "source": [
    "df = df[['regio', 'gm_naam', 'recs', 'gwb_code']]"
   ]
  },
  {
   "cell_type": "code",
   "execution_count": 44,
   "metadata": {},
   "outputs": [
    {
     "data": {
      "text/plain": [
       "recs\n",
       "Gemeente    304\n",
       "Wijk        230\n",
       "Buurt        14\n",
       "Name: count, dtype: int64"
      ]
     },
     "execution_count": 44,
     "metadata": {},
     "output_type": "execute_result"
    }
   ],
   "source": [
    "df['recs'].value_counts()"
   ]
  },
  {
   "cell_type": "code",
   "execution_count": 45,
   "metadata": {},
   "outputs": [
    {
     "data": {
      "text/plain": [
       "(534, 4)"
      ]
     },
     "execution_count": 45,
     "metadata": {},
     "output_type": "execute_result"
    }
   ],
   "source": [
    "df1 = df[(df['recs'] != \"Land\") & (df['recs'] != \"Buurt\")]\n",
    "df1.shape"
   ]
  },
  {
   "cell_type": "code",
   "execution_count": 46,
   "metadata": {},
   "outputs": [
    {
     "data": {
      "text/html": [
       "<div>\n",
       "<style scoped>\n",
       "    .dataframe tbody tr th:only-of-type {\n",
       "        vertical-align: middle;\n",
       "    }\n",
       "\n",
       "    .dataframe tbody tr th {\n",
       "        vertical-align: top;\n",
       "    }\n",
       "\n",
       "    .dataframe thead th {\n",
       "        text-align: right;\n",
       "    }\n",
       "</style>\n",
       "<table border=\"1\" class=\"dataframe\">\n",
       "  <thead>\n",
       "    <tr style=\"text-align: right;\">\n",
       "      <th></th>\n",
       "      <th>regio</th>\n",
       "      <th>gm_naam</th>\n",
       "      <th>recs</th>\n",
       "      <th>gwb_code</th>\n",
       "    </tr>\n",
       "  </thead>\n",
       "  <tbody>\n",
       "    <tr>\n",
       "      <th>1</th>\n",
       "      <td>Groningen</td>\n",
       "      <td>Groningen</td>\n",
       "      <td>Gemeente</td>\n",
       "      <td>GM0014</td>\n",
       "    </tr>\n",
       "    <tr>\n",
       "      <th>2</th>\n",
       "      <td>Centrum</td>\n",
       "      <td>Groningen</td>\n",
       "      <td>Wijk</td>\n",
       "      <td>WK001400</td>\n",
       "    </tr>\n",
       "  </tbody>\n",
       "</table>\n",
       "</div>"
      ],
      "text/plain": [
       "       regio    gm_naam      recs  gwb_code\n",
       "1  Groningen  Groningen  Gemeente    GM0014\n",
       "2    Centrum  Groningen      Wijk  WK001400"
      ]
     },
     "execution_count": 46,
     "metadata": {},
     "output_type": "execute_result"
    }
   ],
   "source": [
    "df1.head(2)"
   ]
  },
  {
   "cell_type": "code",
   "execution_count": 47,
   "metadata": {},
   "outputs": [],
   "source": [
    "regio_list = df1['regio'].to_list()"
   ]
  },
  {
   "cell_type": "code",
   "execution_count": 48,
   "metadata": {},
   "outputs": [
    {
     "data": {
      "text/plain": [
       "['Groningen',\n",
       " 'Centrum',\n",
       " 'Oud-Zuid',\n",
       " 'Oud-West',\n",
       " 'Oud-Noord',\n",
       " 'Oosterparkwijk',\n",
       " 'Helpman e.o.',\n",
       " 'Nieuw-West',\n",
       " 'Noordwest',\n",
       " 'Noordoost',\n",
       " 'Noorddijk e.o.',\n",
       " 'Almere',\n",
       " 'Stadskanaal',\n",
       " 'Stadskanaal',\n",
       " 'Veendam',\n",
       " 'Wijk 00 Veendam-kern',\n",
       " 'Zeewolde',\n",
       " 'Wijk 00',\n",
       " 'Achtkarspelen',\n",
       " 'Harlingen',\n",
       " 'Wijk 00 Harlingen',\n",
       " 'Heerenveen',\n",
       " 'Wijk 01 Heerenveen',\n",
       " 'Leeuwarden',\n",
       " 'Oud-Oost',\n",
       " 'Ooststellingwerf',\n",
       " 'Opsterland',\n",
       " 'Smallingerland',\n",
       " 'Weststellingwerf',\n",
       " 'Assen',\n",
       " 'Coevorden',\n",
       " 'Wijk 10 Coevorden',\n",
       " 'Emmen',\n",
       " 'Hoogeveen',\n",
       " 'Wijk 50 Hoogeveen',\n",
       " 'Meppel',\n",
       " 'Almelo',\n",
       " 'Borne',\n",
       " 'Wijk 00 Borne',\n",
       " 'Dalfsen',\n",
       " 'Deventer',\n",
       " 'Enschede',\n",
       " 'Wijk 00 Binnensingelgebied',\n",
       " 'Wijk 02 Boswinkel - Stadsveld',\n",
       " 'Wijk 04 Enschede-Noord',\n",
       " 'Wijk 06 Enschede-Zuid',\n",
       " 'Wijk 08 Glanerbrug en omgeving',\n",
       " 'Haaksbergen',\n",
       " 'Wijk 00 Haaksbergen (dorp)',\n",
       " 'Hardenberg',\n",
       " 'Hardenberg',\n",
       " 'Hellendoorn',\n",
       " 'Hengelo (O.)',\n",
       " 'Kampen',\n",
       " 'Kampen',\n",
       " 'Losser',\n",
       " 'Noordoostpolder',\n",
       " 'Wijk 01 Emmeloord',\n",
       " 'Oldenzaal',\n",
       " 'Ommen',\n",
       " 'Raalte',\n",
       " 'Raalte',\n",
       " 'Tubbergen',\n",
       " 'Urk',\n",
       " 'Wijk 00 Urk',\n",
       " 'Wierden',\n",
       " 'Zwolle',\n",
       " 'Wijk 22 Stadshagen',\n",
       " 'Aalten',\n",
       " 'Apeldoorn',\n",
       " 'West',\n",
       " 'Zuid',\n",
       " 'Zuidoost',\n",
       " 'Oost',\n",
       " 'Noordoost',\n",
       " 'Arnhem',\n",
       " 'Barneveld',\n",
       " 'Wijk 54 Barneveld',\n",
       " 'Beuningen',\n",
       " 'Beuningen',\n",
       " 'Brummen',\n",
       " 'Buren',\n",
       " 'Culemborg',\n",
       " 'Culemborg Oost',\n",
       " 'Doetinchem',\n",
       " 'Druten',\n",
       " 'Duiven',\n",
       " 'Ede',\n",
       " 'Ede-West',\n",
       " 'Elburg',\n",
       " 'Epe',\n",
       " 'Wijk 00 Epe',\n",
       " 'Ermelo',\n",
       " 'Schil rondom het centrum',\n",
       " 'Harderwijk',\n",
       " 'Heerde',\n",
       " 'Heumen',\n",
       " 'Lochem',\n",
       " 'Maasdriel',\n",
       " 'Nijkerk',\n",
       " 'Nijkerk-stad',\n",
       " 'Nijmegen',\n",
       " 'Nijmegen-Oost',\n",
       " 'Nijmegen-Oud-West',\n",
       " 'Nijmegen-Nieuw-West',\n",
       " 'Nijmegen-Midden',\n",
       " 'Nijmegen-Zuid',\n",
       " 'Dukenburg',\n",
       " 'Nijmegen-Noord',\n",
       " 'Oldebroek',\n",
       " 'Putten',\n",
       " 'Wijk 00 Putten',\n",
       " 'Renkum',\n",
       " 'Rheden',\n",
       " 'Wijk 00 Dieren',\n",
       " 'Wijk 02 Velp',\n",
       " 'Tiel',\n",
       " 'Tiel kern',\n",
       " 'Voorst',\n",
       " 'Wijk 01 Twello-Nijbroek',\n",
       " 'Wageningen',\n",
       " 'Winterswijk',\n",
       " 'Wijk 00 Stad',\n",
       " 'Wijchen',\n",
       " 'Wijk 01 Wijchen kern',\n",
       " 'Zaltbommel',\n",
       " 'Zevenaar',\n",
       " 'Zevenaar',\n",
       " 'Zutphen',\n",
       " 'Nunspeet',\n",
       " 'Wijk 00 Nunspeet',\n",
       " 'Dronten',\n",
       " 'Amersfoort',\n",
       " 'Baarn',\n",
       " 'De Bilt',\n",
       " 'Bunschoten',\n",
       " 'Wijk 00',\n",
       " 'Houten',\n",
       " 'Leusden',\n",
       " 'Rhenen',\n",
       " 'Soest',\n",
       " 'Utrecht',\n",
       " 'Wijk 01 West',\n",
       " 'Wijk 02 Noordwest',\n",
       " 'Wijk 03 Overvecht',\n",
       " 'Wijk 04 Noordoost',\n",
       " 'Wijk 05 Oost',\n",
       " 'Wijk 06 Binnenstad',\n",
       " 'Wijk 07 Zuid',\n",
       " 'Wijk 08 Zuidwest',\n",
       " 'Wijk 09 Leidsche Rijn',\n",
       " 'Wijk 10 Vleuten-De Meern',\n",
       " 'Veenendaal',\n",
       " 'Wijk bij Duurstede',\n",
       " 'Wijk 00 Wijk bij Duurstede',\n",
       " 'IJsselstein',\n",
       " 'Wijk 00 IJsselstein',\n",
       " 'Zeist',\n",
       " 'Zeist Centrum',\n",
       " 'Zeist-Noord',\n",
       " 'Nieuwegein',\n",
       " 'Aalsmeer',\n",
       " 'Alkmaar',\n",
       " 'Zuid',\n",
       " 'De Mare',\n",
       " 'Amstelveen',\n",
       " 'Amsterdam',\n",
       " 'Jordaan',\n",
       " 'Oostelijke Eilanden/Kadijken',\n",
       " 'Landlust',\n",
       " 'Staatsliedenbuurt',\n",
       " 'Geuzenveld',\n",
       " 'Osdorp-Oost',\n",
       " 'Westlandgracht',\n",
       " 'Museumkwartier',\n",
       " 'Oude Pijp',\n",
       " 'Nieuwe Pijp',\n",
       " 'Scheldebuurt',\n",
       " 'Buitenveldert-West',\n",
       " 'Oostelijk Havengebied',\n",
       " 'Frankendael',\n",
       " 'Middenmeer',\n",
       " 'Bergen (NH.)',\n",
       " 'Beverwijk',\n",
       " 'Bloemendaal',\n",
       " 'Castricum',\n",
       " 'Diemen',\n",
       " 'Edam-Volendam',\n",
       " 'Wijk 02 Volendam',\n",
       " 'Enkhuizen',\n",
       " 'Haarlem',\n",
       " 'Oude Stad',\n",
       " 'Haarlemmermeer',\n",
       " 'Hoofddorp',\n",
       " 'Nieuw-Vennep',\n",
       " 'Heemskerk',\n",
       " 'Heemstede',\n",
       " 'Wijk 00 Heemstede-Centrum',\n",
       " 'Heiloo',\n",
       " 'Den Helder',\n",
       " 'Hilversum',\n",
       " 'Zuid',\n",
       " 'Oost',\n",
       " 'Hoorn',\n",
       " 'Wijk 33 Kersenboogerd-Zuid',\n",
       " 'Huizen',\n",
       " 'Medemblik',\n",
       " 'Purmerend',\n",
       " 'Wijk 02 Overwhere',\n",
       " 'Wijk 07 Weidevenne',\n",
       " 'Schagen',\n",
       " 'Texel',\n",
       " 'Uithoorn',\n",
       " 'Velsen',\n",
       " 'Zandvoort',\n",
       " 'Zaanstad',\n",
       " 'Alblasserdam',\n",
       " 'Alphen aan den Rijn',\n",
       " 'Kerk en Zanen',\n",
       " 'Boskoop',\n",
       " 'Barendrecht',\n",
       " 'Drechterland',\n",
       " 'Capelle aan den IJssel',\n",
       " 'Delft',\n",
       " 'Wijk 11 Binnenstad',\n",
       " 'Wijk 24 Voorhof',\n",
       " 'Wijk 25 Buitenhof',\n",
       " 'Wijk 28 Wippolder',\n",
       " 'Dordrecht',\n",
       " 'Wijk 09 Sterrenburg',\n",
       " 'Wijk 11 Stadspolders',\n",
       " 'Gorinchem',\n",
       " 'Gouda',\n",
       " \"'s-Gravenhage\",\n",
       " 'Wijk 04 Benoordenhout',\n",
       " 'Wijk 07 Scheveningen',\n",
       " 'Wijk 09 Geuzen- en Statenkwartier',\n",
       " 'Wijk 12 Bomen- en Bloemenbuurt',\n",
       " 'Wijk 17 Loosduinen',\n",
       " 'Wijk 18 Waldeck',\n",
       " 'Wijk 20 Valkenboskwartier',\n",
       " 'Wijk 21 Regentessekwartier',\n",
       " 'Wijk 25 Mariahoeve en Marlot',\n",
       " 'Wijk 26 Bezuidenhout',\n",
       " 'Wijk 27 Stationsbuurt',\n",
       " 'Wijk 28 Centrum',\n",
       " 'Wijk 29 Schildersbuurt',\n",
       " 'Wijk 31 Rustenburg en Oostbroek',\n",
       " 'Wijk 32 Leyenburg',\n",
       " 'Wijk 33 Bouwlust',\n",
       " 'Wijk 34 Morgenstond',\n",
       " 'Wijk 36 Moerwijk',\n",
       " 'Wijk 38 Laakkwartier en Spoorwijk',\n",
       " 'Wijk 40 Wateringse Veld',\n",
       " 'Wijk 42 Ypenburg',\n",
       " 'Wijk 44 Leidschenveen',\n",
       " 'Hardinxveld-Giessendam',\n",
       " 'Hendrik-Ido-Ambacht',\n",
       " 'Stede Broec',\n",
       " 'Hillegom',\n",
       " 'Katwijk',\n",
       " 'Katwijk aan Zee',\n",
       " 'Rijnsburg',\n",
       " 'Krimpen aan den IJssel',\n",
       " 'Wijk 00 Krimpen aan den IJssel',\n",
       " 'Leiden',\n",
       " 'Binnenstad-Noord',\n",
       " 'Leiden-Noord',\n",
       " 'Roodenburgerdistrict',\n",
       " 'Bos- en Gasthuisdistrict',\n",
       " 'Leiderdorp',\n",
       " 'Wijk 00',\n",
       " 'Lisse',\n",
       " 'Maassluis',\n",
       " 'Nieuwkoop',\n",
       " 'Noordwijk',\n",
       " 'Noordwijk Binnen',\n",
       " 'Oegstgeest',\n",
       " 'Papendrecht',\n",
       " 'Ridderkerk',\n",
       " 'Rotterdam',\n",
       " 'Rotterdam Centrum',\n",
       " 'Delfshaven',\n",
       " 'Overschie',\n",
       " 'Noord',\n",
       " 'Hillegersberg-Schiebroek',\n",
       " 'Kralingen-Crooswijk',\n",
       " 'Feijenoord',\n",
       " 'IJsselmonde',\n",
       " 'Prins Alexander',\n",
       " 'Charlois',\n",
       " 'Hoogvliet',\n",
       " 'Rijswijk (ZH.)',\n",
       " 'Schiedam',\n",
       " 'Wijk 06 Nieuwland',\n",
       " 'Sliedrecht',\n",
       " 'Albrandswaard',\n",
       " 'Vlaardingen',\n",
       " 'Centrum',\n",
       " 'Voorschoten',\n",
       " 'Wijk 00',\n",
       " 'Waddinxveen',\n",
       " 'Wassenaar',\n",
       " 'Wijk 01 Noordoostelijk deel der gemeente',\n",
       " 'Woerden',\n",
       " 'Wijk 01 Woerden-Midden',\n",
       " 'Zoetermeer',\n",
       " 'Centrum',\n",
       " 'Meerzicht',\n",
       " 'Buytenwegh de Leyens',\n",
       " 'Seghwaert',\n",
       " 'Rokkeveen',\n",
       " 'Oosterheem',\n",
       " 'Zwijndrecht',\n",
       " 'Borsele',\n",
       " 'Goes',\n",
       " 'Wijk 01 Goes',\n",
       " 'West Maas en Waal',\n",
       " 'Hulst',\n",
       " 'Middelburg (Z.)',\n",
       " 'Reimerswaal',\n",
       " 'Terneuzen',\n",
       " 'Tholen',\n",
       " 'Veere',\n",
       " 'Vlissingen',\n",
       " 'De Ronde Venen',\n",
       " 'Mijdrecht',\n",
       " 'Tytsjerksteradiel',\n",
       " 'Asten',\n",
       " 'Bergen op Zoom',\n",
       " 'Wijk 00 Bergen op Zoom-Oude stad en omgeving',\n",
       " 'Wijk 02 Bergen op Zoom-Oost',\n",
       " 'Best',\n",
       " 'Wijk 00 Best',\n",
       " 'Boxtel',\n",
       " 'Wijk 00 Boxtel',\n",
       " 'Breda',\n",
       " 'Breda centrum',\n",
       " 'Breda noord',\n",
       " 'Breda oost',\n",
       " 'Breda zuid-oost',\n",
       " 'Breda west',\n",
       " 'Breda noord-west',\n",
       " 'Deurne',\n",
       " 'Dongen',\n",
       " 'Dongen',\n",
       " 'Eersel',\n",
       " 'Eindhoven',\n",
       " 'Putten',\n",
       " 'Erp',\n",
       " 'Ontginning',\n",
       " 'Aanschot',\n",
       " 'Oud-Strijp',\n",
       " 'Oud-Gestel',\n",
       " 'Etten-Leur',\n",
       " 'Noord woongebied',\n",
       " 'Geertruidenberg',\n",
       " 'Gilze en Rijen',\n",
       " 'Rijen',\n",
       " 'Goirle',\n",
       " 'Helmond',\n",
       " 'Wijk 10 Binnenstad',\n",
       " \"'s-Hertogenbosch\",\n",
       " 'Binnenstad',\n",
       " 'Zuidoost',\n",
       " 'Graafsepoort',\n",
       " 'Noord',\n",
       " 'Maaspoort',\n",
       " 'West',\n",
       " 'Heusden',\n",
       " 'Wijk 01 Drunen',\n",
       " 'Wijk 05 Vlijmen',\n",
       " 'Hilvarenbeek',\n",
       " 'Loon op Zand',\n",
       " 'Nuenen, Gerwen en Nederwetten',\n",
       " 'Wijk 00 Nuenen',\n",
       " 'Oirschot',\n",
       " 'Oisterwijk',\n",
       " 'Oosterhout',\n",
       " 'Oss',\n",
       " 'Rucphen',\n",
       " 'Sint-Michielsgestel',\n",
       " 'Someren',\n",
       " 'Son en Breugel',\n",
       " 'Steenbergen',\n",
       " 'Waterland',\n",
       " 'Tilburg',\n",
       " 'Valkenswaard',\n",
       " 'Wijk 00 Valkenswaard',\n",
       " 'Veldhoven',\n",
       " 'Wijk 00 Veldhoven',\n",
       " 'Vught',\n",
       " 'Waalre',\n",
       " 'Wijk 00 Waalre',\n",
       " 'Waalwijk',\n",
       " 'Waalwijk',\n",
       " 'Woensdrecht',\n",
       " 'Zundert',\n",
       " 'Wormerland',\n",
       " 'Landgraaf',\n",
       " 'Wijk 00 Schaesberg',\n",
       " 'Beek (L.)',\n",
       " 'Brunssum',\n",
       " 'Gennep',\n",
       " 'Heerlen',\n",
       " 'Kerkrade',\n",
       " 'Wijk 00 Kerkrade-West',\n",
       " 'Wijk 01 Kerkrade-Oost',\n",
       " 'Maastricht',\n",
       " 'Wijk 00 Centrum',\n",
       " 'Wijk 02 Buitenwijk West',\n",
       " 'Wijk 04 Buitenwijk Oost',\n",
       " 'Wijk 06 Buitenwijk Zuidoost',\n",
       " 'Meerssen',\n",
       " 'Nederweert',\n",
       " 'Roermond',\n",
       " 'Stein (L.)',\n",
       " 'Venlo',\n",
       " 'Venray',\n",
       " 'Weert',\n",
       " 'Valkenburg aan de Geul',\n",
       " 'Lelystad',\n",
       " 'Horst aan de Maas',\n",
       " 'Oude IJsselstreek',\n",
       " 'Teylingen',\n",
       " 'Utrechtse Heuvelrug',\n",
       " 'Driebergen',\n",
       " 'Oost Gelre',\n",
       " 'Koggenland',\n",
       " 'Lansingerland',\n",
       " 'Leudal',\n",
       " 'Maasgouw',\n",
       " 'Gemert-Bakel',\n",
       " 'Halderberge',\n",
       " 'Heeze-Leende',\n",
       " 'Laarbeek',\n",
       " 'Roerdalen',\n",
       " 'Roosendaal',\n",
       " 'Schouwen-Duiveland',\n",
       " 'Aa en Hunze',\n",
       " 'Borger-Odoorn',\n",
       " 'De Wolden',\n",
       " 'Wijdemeren',\n",
       " 'Noordenveld',\n",
       " 'Wijk 00 Roden',\n",
       " 'Twenterand',\n",
       " 'Westerveld',\n",
       " 'Lingewaard',\n",
       " 'Huissen',\n",
       " 'Cranendonck',\n",
       " 'Steenwijkerland',\n",
       " 'Steenwijk',\n",
       " 'Moerdijk',\n",
       " 'Wijk 00 Zevenbergen',\n",
       " 'Echt-Susteren',\n",
       " 'Sluis',\n",
       " 'Drimmelen',\n",
       " 'Bernheze',\n",
       " 'Bergeijk',\n",
       " 'Bladel',\n",
       " 'Gulpen-Wittem',\n",
       " 'Tynaarlo',\n",
       " 'Midden-Drenthe',\n",
       " 'Overbetuwe',\n",
       " 'Hof van Twente',\n",
       " 'Neder-Betuwe',\n",
       " 'Rijssen-Holten',\n",
       " 'Geldrop-Mierlo',\n",
       " 'Geldrop',\n",
       " 'Olst-Wijhe',\n",
       " 'Dinkelland',\n",
       " 'Westland',\n",
       " 'Wijk 01 Naaldwijk',\n",
       " \"Wijk 04 's-Gravenzande\",\n",
       " 'Midden-Delfland',\n",
       " 'Berkelland',\n",
       " 'Bronckhorst',\n",
       " 'Sittard-Geleen',\n",
       " 'Wijk 01 Sittard',\n",
       " 'Wijk 02 Overhoven',\n",
       " 'Wijk 05 Geleen',\n",
       " 'Kaag en Braassem',\n",
       " 'Dantumadiel',\n",
       " 'Zuidplas',\n",
       " 'Nieuwerkerk aan den IJssel wijk 04',\n",
       " 'Peel en Maas',\n",
       " 'Oldambt',\n",
       " 'Wijk 00 Winschoten',\n",
       " 'Zwartewaterland',\n",
       " 'Súdwest-Fryslân',\n",
       " 'Wijk 01 Sneek',\n",
       " 'Bodegraven-Reeuwijk',\n",
       " 'Eijsden-Margraten',\n",
       " 'Stichtse Vecht',\n",
       " 'Wijk 01 Maarssen',\n",
       " 'Wijk 12 Maarssenbroek',\n",
       " 'Hollands Kroon',\n",
       " 'Leidschendam-Voorburg',\n",
       " 'Goeree-Overflakkee',\n",
       " 'Pijnacker-Nootdorp',\n",
       " 'Pijnacker',\n",
       " 'Nootdorp',\n",
       " 'Nissewaard',\n",
       " 'Krimpenerwaard',\n",
       " 'De Fryske Marren',\n",
       " 'Gooise Meren',\n",
       " 'Naarden',\n",
       " 'Berg en Dal',\n",
       " 'Meierijstad',\n",
       " 'Schijndel',\n",
       " 'Sint-Oedenrode',\n",
       " 'Veghel',\n",
       " 'Waadhoeke',\n",
       " 'Westerwolde',\n",
       " 'Midden-Groningen',\n",
       " 'Beekdaelen',\n",
       " 'Montferland',\n",
       " 'Wijk 02 Didam',\n",
       " 'Altena',\n",
       " 'West Betuwe',\n",
       " 'Vijfheerenlanden',\n",
       " 'Hoeksche Waard',\n",
       " 'Oud-Beijerland',\n",
       " 'Het Hogeland',\n",
       " 'Westerkwartier',\n",
       " 'Noardeast-Fryslân',\n",
       " 'Molenlanden',\n",
       " 'Eemsdelta',\n",
       " 'Dijk en Waard',\n",
       " 'Land van Cuijk',\n",
       " 'Cuijk',\n",
       " 'Maashorst',\n",
       " 'Uden',\n",
       " 'Voorne aan Zee']"
      ]
     },
     "execution_count": 48,
     "metadata": {},
     "output_type": "execute_result"
    }
   ],
   "source": [
    "regio_list"
   ]
  },
  {
   "cell_type": "code",
   "execution_count": 50,
   "metadata": {},
   "outputs": [],
   "source": [
    "# Open a file for writing\n",
    "with open('regio_list.txt', 'w') as file:\n",
    "    # Format the list with 8 items per line\n",
    "    formatted_list = ',\\n'.join(\n",
    "        ', '.join(f'\"{item}\"' for item in regio_list[i:i + 8])\n",
    "        for i in range(0, len(regio_list), 8)\n",
    "    )\n",
    "    file.write(f\"[{formatted_list}]\\n\")\n"
   ]
  },
  {
   "cell_type": "code",
   "execution_count": null,
   "metadata": {},
   "outputs": [],
   "source": [
    "# rotate proxy\n",
    "# robot.xtx\n",
    "# make sure it has more delay\n"
   ]
  },
  {
   "cell_type": "code",
   "execution_count": null,
   "metadata": {},
   "outputs": [],
   "source": []
  },
  {
   "cell_type": "code",
   "execution_count": null,
   "metadata": {},
   "outputs": [],
   "source": []
  },
  {
   "cell_type": "code",
   "execution_count": null,
   "metadata": {},
   "outputs": [],
   "source": []
  },
  {
   "cell_type": "code",
   "execution_count": 55,
   "metadata": {},
   "outputs": [
    {
     "data": {
      "text/plain": [
       "(19960, 9)"
      ]
     },
     "execution_count": 55,
     "metadata": {},
     "output_type": "execute_result"
    }
   ],
   "source": [
    "data = pd.read_csv(\"data.csv\")\n",
    "data.shape"
   ]
  },
  {
   "cell_type": "code",
   "execution_count": 56,
   "metadata": {},
   "outputs": [
    {
     "data": {
      "text/plain": [
       "Index(['name', 'adres', 'website', 'telefoon', 'reviews_count',\n",
       "       'reviews_average', 'latitude', 'longitude', ' search_keyword'],\n",
       "      dtype='object')"
      ]
     },
     "execution_count": 56,
     "metadata": {},
     "output_type": "execute_result"
    }
   ],
   "source": [
    "data.columns"
   ]
  },
  {
   "cell_type": "code",
   "execution_count": 57,
   "metadata": {},
   "outputs": [
    {
     "data": {
      "text/plain": [
       "(3969, 9)"
      ]
     },
     "execution_count": 57,
     "metadata": {},
     "output_type": "execute_result"
    }
   ],
   "source": [
    "data = data.sort_values(by='reviews_count', ascending=False)\n",
    "data = data.drop_duplicates(subset=['name', 'website'], keep='first')\n",
    "\n",
    "# Drop rows where 'website' is NaN or an empty string\n",
    "data = data[data['website'].notna() & (data['website'] != \"\")]\n",
    "data.shape"
   ]
  },
  {
   "cell_type": "code",
   "execution_count": null,
   "metadata": {},
   "outputs": [],
   "source": [
    "# use data seen to not read df every loop to make it faster\n",
    "# Scrape only data that has websites for faster handle \n",
    "# update script to be callable by class to run paralel without copy .py\n",
    "# Modify the code so it can run multi browser and boost speed.\n",
    "# Append keyword used into the csv for storage so we know where it came from\n",
    "# maybe append takes much ram on csv"
   ]
  },
  {
   "cell_type": "code",
   "execution_count": null,
   "metadata": {},
   "outputs": [],
   "source": []
  }
 ],
 "metadata": {
  "kernelspec": {
   "display_name": ".conda",
   "language": "python",
   "name": "python3"
  },
  "language_info": {
   "codemirror_mode": {
    "name": "ipython",
    "version": 3
   },
   "file_extension": ".py",
   "mimetype": "text/x-python",
   "name": "python",
   "nbconvert_exporter": "python",
   "pygments_lexer": "ipython3",
   "version": "3.11.10"
  }
 },
 "nbformat": 4,
 "nbformat_minor": 2
}
